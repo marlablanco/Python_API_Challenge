{
 "cells": [
  {
   "cell_type": "markdown",
   "metadata": {},
   "source": [
    "# VacationPy\n",
    "---\n",
    "\n",
    "## Starter Code to Import Libraries and Load the Weather and Coordinates Data"
   ]
  },
  {
   "cell_type": "code",
   "execution_count": null,
   "metadata": {},
   "outputs": [],
   "source": [
    "# Dependencies and Setup\n",
    "import hvplot.pandas\n",
    "import pandas as pd\n",
    "import requests\n",
    "\n",
    "# Import API key\n",
    "from api_keys import geoapify_key"
   ]
  },
  {
   "cell_type": "code",
   "execution_count": null,
   "metadata": {},
   "outputs": [],
   "source": [
    "# Load the CSV file created in Part 1 into a Pandas DataFrame\n",
    "city_data_df = pd.read_csv(\"../output_data/cities.csv\")\n",
    "\n",
    "# Display sample data\n",
    "city_data_df.head()"
   ]
  },
  {
   "cell_type": "markdown",
   "metadata": {},
   "source": [
    "---\n",
    "\n",
    "### Step 1: Create a map that displays a point for every city in the `city_data_df` DataFrame. The size of the point should be the humidity in each city."
   ]
  },
  {
   "cell_type": "code",
   "execution_count": 3,
   "metadata": {},
   "outputs": [
    {
     "data": {
      "text/html": [
       "<b>ValueError</b><i> [Call holoviews.ipython.show_traceback() for details]</i><br>Screen sizes must be positive"
      ],
      "text/plain": [
       ":Overlay\n",
       "   .Tiles.I  :Tiles   [x,y]\n",
       "   .Points.I :Points   [Lat,Lng]   (Humidity)"
      ]
     },
     "execution_count": 3,
     "metadata": {},
     "output_type": "execute_result"
    }
   ],
   "source": [
    "%%capture --no-display\n",
    "\n",
    "# Configure the map plot\n",
    "city_map=city_data_df.hvplot.points('Lat','Lng',geo=True,size='Humidity',color='Humidity',tiles=\"OSM\")\n",
    "\n",
    "# Display the map\n",
    "city_map"
   ]
  },
  {
   "cell_type": "markdown",
   "metadata": {},
   "source": [
    "### Step 2: Narrow down the `city_data_df` DataFrame to find your ideal weather condition"
   ]
  },
  {
   "cell_type": "code",
   "execution_count": 4,
   "metadata": {},
   "outputs": [
    {
     "data": {
      "text/html": [
       "<div>\n",
       "<style scoped>\n",
       "    .dataframe tbody tr th:only-of-type {\n",
       "        vertical-align: middle;\n",
       "    }\n",
       "\n",
       "    .dataframe tbody tr th {\n",
       "        vertical-align: top;\n",
       "    }\n",
       "\n",
       "    .dataframe thead th {\n",
       "        text-align: right;\n",
       "    }\n",
       "</style>\n",
       "<table border=\"1\" class=\"dataframe\">\n",
       "  <thead>\n",
       "    <tr style=\"text-align: right;\">\n",
       "      <th></th>\n",
       "      <th>City_ID</th>\n",
       "      <th>City</th>\n",
       "      <th>Lat</th>\n",
       "      <th>Lng</th>\n",
       "      <th>Max Temp</th>\n",
       "      <th>Humidity</th>\n",
       "      <th>Cloudiness</th>\n",
       "      <th>Wind Speed</th>\n",
       "      <th>Country</th>\n",
       "      <th>Date</th>\n",
       "    </tr>\n",
       "  </thead>\n",
       "  <tbody>\n",
       "    <tr>\n",
       "      <th>28</th>\n",
       "      <td>28</td>\n",
       "      <td>velingara</td>\n",
       "      <td>-19.3313</td>\n",
       "      <td>36.8201</td>\n",
       "      <td>24.53</td>\n",
       "      <td>53</td>\n",
       "      <td>0</td>\n",
       "      <td>5.62</td>\n",
       "      <td>MZ</td>\n",
       "      <td>1688063644</td>\n",
       "    </tr>\n",
       "    <tr>\n",
       "      <th>50</th>\n",
       "      <td>50</td>\n",
       "      <td>stanley</td>\n",
       "      <td>47.6595</td>\n",
       "      <td>-102.7302</td>\n",
       "      <td>25.23</td>\n",
       "      <td>41</td>\n",
       "      <td>0</td>\n",
       "      <td>3.69</td>\n",
       "      <td>US</td>\n",
       "      <td>1688063707</td>\n",
       "    </tr>\n",
       "    <tr>\n",
       "      <th>63</th>\n",
       "      <td>63</td>\n",
       "      <td>bor</td>\n",
       "      <td>39.4842</td>\n",
       "      <td>115.4140</td>\n",
       "      <td>22.67</td>\n",
       "      <td>34</td>\n",
       "      <td>0</td>\n",
       "      <td>2.70</td>\n",
       "      <td>CN</td>\n",
       "      <td>1688063745</td>\n",
       "    </tr>\n",
       "    <tr>\n",
       "      <th>86</th>\n",
       "      <td>86</td>\n",
       "      <td>ishim</td>\n",
       "      <td>34.1226</td>\n",
       "      <td>47.9609</td>\n",
       "      <td>20.54</td>\n",
       "      <td>18</td>\n",
       "      <td>0</td>\n",
       "      <td>1.86</td>\n",
       "      <td>IR</td>\n",
       "      <td>1688063804</td>\n",
       "    </tr>\n",
       "    <tr>\n",
       "      <th>124</th>\n",
       "      <td>124</td>\n",
       "      <td>nusaybin</td>\n",
       "      <td>27.7221</td>\n",
       "      <td>62.1361</td>\n",
       "      <td>25.21</td>\n",
       "      <td>15</td>\n",
       "      <td>0</td>\n",
       "      <td>1.95</td>\n",
       "      <td>IR</td>\n",
       "      <td>1688063909</td>\n",
       "    </tr>\n",
       "  </tbody>\n",
       "</table>\n",
       "</div>"
      ],
      "text/plain": [
       "     City_ID       City      Lat       Lng  Max Temp  Humidity  Cloudiness  \\\n",
       "28        28  velingara -19.3313   36.8201     24.53        53           0   \n",
       "50        50    stanley  47.6595 -102.7302     25.23        41           0   \n",
       "63        63        bor  39.4842  115.4140     22.67        34           0   \n",
       "86        86      ishim  34.1226   47.9609     20.54        18           0   \n",
       "124      124   nusaybin  27.7221   62.1361     25.21        15           0   \n",
       "\n",
       "     Wind Speed Country        Date  \n",
       "28         5.62      MZ  1688063644  \n",
       "50         3.69      US  1688063707  \n",
       "63         2.70      CN  1688063745  \n",
       "86         1.86      IR  1688063804  \n",
       "124        1.95      IR  1688063909  "
      ]
     },
     "execution_count": 4,
     "metadata": {},
     "output_type": "execute_result"
    }
   ],
   "source": [
    "# Narrow down cities that fit criteria and drop any results with null values\n",
    "ideal_cities=city_data_df[(city_data_df[\"Max Temp\"]<26)&(city_data_df[\"Max Temp\"]>20)&(city_data_df[\"Cloudiness\"]==0)&(city_data_df[\"Humidity\"]<60)]\n",
    "# Drop any rows with null values\n",
    "ideal_cities=ideal_cities.dropna(how='any')\n",
    "\n",
    "# Display sample data\n",
    "ideal_cities"
   ]
  },
  {
   "cell_type": "markdown",
   "metadata": {},
   "source": [
    "### Step 3: Create a new DataFrame called `hotel_df`."
   ]
  },
  {
   "cell_type": "code",
   "execution_count": 5,
   "metadata": {},
   "outputs": [
    {
     "data": {
      "text/html": [
       "<div>\n",
       "<style scoped>\n",
       "    .dataframe tbody tr th:only-of-type {\n",
       "        vertical-align: middle;\n",
       "    }\n",
       "\n",
       "    .dataframe tbody tr th {\n",
       "        vertical-align: top;\n",
       "    }\n",
       "\n",
       "    .dataframe thead th {\n",
       "        text-align: right;\n",
       "    }\n",
       "</style>\n",
       "<table border=\"1\" class=\"dataframe\">\n",
       "  <thead>\n",
       "    <tr style=\"text-align: right;\">\n",
       "      <th></th>\n",
       "      <th>City</th>\n",
       "      <th>Country</th>\n",
       "      <th>Lat</th>\n",
       "      <th>Lng</th>\n",
       "      <th>Humidity</th>\n",
       "      <th>Hotel Name</th>\n",
       "    </tr>\n",
       "  </thead>\n",
       "  <tbody>\n",
       "    <tr>\n",
       "      <th>28</th>\n",
       "      <td>velingara</td>\n",
       "      <td>MZ</td>\n",
       "      <td>-19.3313</td>\n",
       "      <td>36.8201</td>\n",
       "      <td>53</td>\n",
       "      <td></td>\n",
       "    </tr>\n",
       "    <tr>\n",
       "      <th>50</th>\n",
       "      <td>stanley</td>\n",
       "      <td>US</td>\n",
       "      <td>47.6595</td>\n",
       "      <td>-102.7302</td>\n",
       "      <td>41</td>\n",
       "      <td></td>\n",
       "    </tr>\n",
       "    <tr>\n",
       "      <th>63</th>\n",
       "      <td>bor</td>\n",
       "      <td>CN</td>\n",
       "      <td>39.4842</td>\n",
       "      <td>115.4140</td>\n",
       "      <td>34</td>\n",
       "      <td></td>\n",
       "    </tr>\n",
       "    <tr>\n",
       "      <th>86</th>\n",
       "      <td>ishim</td>\n",
       "      <td>IR</td>\n",
       "      <td>34.1226</td>\n",
       "      <td>47.9609</td>\n",
       "      <td>18</td>\n",
       "      <td></td>\n",
       "    </tr>\n",
       "    <tr>\n",
       "      <th>124</th>\n",
       "      <td>nusaybin</td>\n",
       "      <td>IR</td>\n",
       "      <td>27.7221</td>\n",
       "      <td>62.1361</td>\n",
       "      <td>15</td>\n",
       "      <td></td>\n",
       "    </tr>\n",
       "  </tbody>\n",
       "</table>\n",
       "</div>"
      ],
      "text/plain": [
       "          City Country      Lat       Lng  Humidity Hotel Name\n",
       "28   velingara      MZ -19.3313   36.8201        53           \n",
       "50     stanley      US  47.6595 -102.7302        41           \n",
       "63         bor      CN  39.4842  115.4140        34           \n",
       "86       ishim      IR  34.1226   47.9609        18           \n",
       "124   nusaybin      IR  27.7221   62.1361        15           "
      ]
     },
     "execution_count": 5,
     "metadata": {},
     "output_type": "execute_result"
    }
   ],
   "source": [
    "# Use the Pandas copy function to create DataFrame called hotel_df to store the city, country, coordinates, and humidity\n",
    "hotel_df=ideal_cities[[\"City\",\"Country\",\"Lat\",\"Lng\",\"Humidity\"]].copy()\n",
    "\n",
    "# Add an empty column, \"Hotel Name,\" to the DataFrame so you can store the hotel found using the Geoapify API\n",
    "hotel_df[\"Hotel Name\"]=\"\"\n",
    "\n",
    "# Display sample data\n",
    "hotel_df"
   ]
  },
  {
   "cell_type": "markdown",
   "metadata": {},
   "source": [
    "### Step 4: For each city, use the Geoapify API to find the first hotel located within 10,000 metres of your coordinates."
   ]
  },
  {
   "cell_type": "code",
   "execution_count": 6,
   "metadata": {},
   "outputs": [
    {
     "name": "stdout",
     "output_type": "stream",
     "text": [
      "Starting hotel search\n",
      "velingara - nearest hotel: No hotel found\n",
      "stanley - nearest hotel: No hotel found\n",
      "bor - nearest hotel: No hotel found\n",
      "ishim - nearest hotel: No hotel found\n",
      "nusaybin - nearest hotel: No hotel found\n"
     ]
    },
    {
     "data": {
      "text/html": [
       "<div>\n",
       "<style scoped>\n",
       "    .dataframe tbody tr th:only-of-type {\n",
       "        vertical-align: middle;\n",
       "    }\n",
       "\n",
       "    .dataframe tbody tr th {\n",
       "        vertical-align: top;\n",
       "    }\n",
       "\n",
       "    .dataframe thead th {\n",
       "        text-align: right;\n",
       "    }\n",
       "</style>\n",
       "<table border=\"1\" class=\"dataframe\">\n",
       "  <thead>\n",
       "    <tr style=\"text-align: right;\">\n",
       "      <th></th>\n",
       "      <th>City</th>\n",
       "      <th>Country</th>\n",
       "      <th>Lat</th>\n",
       "      <th>Lng</th>\n",
       "      <th>Humidity</th>\n",
       "      <th>Hotel Name</th>\n",
       "    </tr>\n",
       "  </thead>\n",
       "  <tbody>\n",
       "    <tr>\n",
       "      <th>28</th>\n",
       "      <td>velingara</td>\n",
       "      <td>MZ</td>\n",
       "      <td>-19.3313</td>\n",
       "      <td>36.8201</td>\n",
       "      <td>53</td>\n",
       "      <td>No hotel found</td>\n",
       "    </tr>\n",
       "    <tr>\n",
       "      <th>50</th>\n",
       "      <td>stanley</td>\n",
       "      <td>US</td>\n",
       "      <td>47.6595</td>\n",
       "      <td>-102.7302</td>\n",
       "      <td>41</td>\n",
       "      <td>No hotel found</td>\n",
       "    </tr>\n",
       "    <tr>\n",
       "      <th>63</th>\n",
       "      <td>bor</td>\n",
       "      <td>CN</td>\n",
       "      <td>39.4842</td>\n",
       "      <td>115.4140</td>\n",
       "      <td>34</td>\n",
       "      <td>No hotel found</td>\n",
       "    </tr>\n",
       "    <tr>\n",
       "      <th>86</th>\n",
       "      <td>ishim</td>\n",
       "      <td>IR</td>\n",
       "      <td>34.1226</td>\n",
       "      <td>47.9609</td>\n",
       "      <td>18</td>\n",
       "      <td>No hotel found</td>\n",
       "    </tr>\n",
       "    <tr>\n",
       "      <th>124</th>\n",
       "      <td>nusaybin</td>\n",
       "      <td>IR</td>\n",
       "      <td>27.7221</td>\n",
       "      <td>62.1361</td>\n",
       "      <td>15</td>\n",
       "      <td>No hotel found</td>\n",
       "    </tr>\n",
       "  </tbody>\n",
       "</table>\n",
       "</div>"
      ],
      "text/plain": [
       "          City Country      Lat       Lng  Humidity      Hotel Name\n",
       "28   velingara      MZ -19.3313   36.8201        53  No hotel found\n",
       "50     stanley      US  47.6595 -102.7302        41  No hotel found\n",
       "63         bor      CN  39.4842  115.4140        34  No hotel found\n",
       "86       ishim      IR  34.1226   47.9609        18  No hotel found\n",
       "124   nusaybin      IR  27.7221   62.1361        15  No hotel found"
      ]
     },
     "execution_count": 6,
     "metadata": {},
     "output_type": "execute_result"
    }
   ],
   "source": [
    "# Set parameters to search for a hotel\n",
    "radius = 10000\n",
    "params = {\n",
    "    \"apiKey\":geoapify_key,\n",
    "    \"categories\":\"accomodation.hotel\"\n",
    "}\n",
    "\n",
    "# Print a message to follow up the hotel search\n",
    "print(\"Starting hotel search\")\n",
    "\n",
    "# Iterate through the hotel_df DataFrame\n",
    "for index, row in hotel_df.iterrows():\n",
    "    # get latitude, longitude from the DataFrame\n",
    "    lat=row[2]\n",
    "    lng=row[3]\n",
    "    \n",
    "    # Add filter and bias parameters with the current city's latitude and longitude to the params dictionary\n",
    "    params[\"filter\"] = f\"cicle:{lat},{lng},{radius}\"\n",
    "    params[\"bias\"] = f\"proximity:{lat},{lng}\"\n",
    "    \n",
    "    # Set base URL\n",
    "    base_url = \"https://api.geoapify.com/v2/places\"\n",
    "\n",
    "\n",
    "    # Make and API request using the params dictionaty\n",
    "    name_address = requests.get(base_url,params=params)\n",
    "    \n",
    "    # Convert the API response to JSON format\n",
    "    name_address = name_address.json()\n",
    "    \n",
    "    # Grab the first hotel from the results and store the name in the hotel_df DataFrame\n",
    "    try:\n",
    "        hotel_df.loc[index, \"Hotel Name\"] = name_address[\"features\"][0][\"properties\"][\"name\"]\n",
    "    except (KeyError, IndexError):\n",
    "        # If no hotel is found, set the hotel name as \"No hotel found\".\n",
    "        hotel_df.loc[index, \"Hotel Name\"] = \"No hotel found\"\n",
    "        \n",
    "    # Log the search results\n",
    "    print(f\"{hotel_df.loc[index, 'City']} - nearest hotel: {hotel_df.loc[index, 'Hotel Name']}\")\n",
    "\n",
    "# Display sample data\n",
    "hotel_df"
   ]
  },
  {
   "cell_type": "markdown",
   "metadata": {},
   "source": [
    "### Step 5: Add the hotel name and the country as additional information in the hover message for each city in the map."
   ]
  },
  {
   "cell_type": "code",
   "execution_count": 7,
   "metadata": {},
   "outputs": [
    {
     "data": {
      "text/html": [
       "<b>ValueError</b><i> [Call holoviews.ipython.show_traceback() for details]</i><br>Screen sizes must be positive"
      ],
      "text/plain": [
       ":Overlay\n",
       "   .Tiles.I  :Tiles   [x,y]\n",
       "   .Points.I :Points   [Lat,Lng]   (Humidity)"
      ]
     },
     "execution_count": 7,
     "metadata": {},
     "output_type": "execute_result"
    }
   ],
   "source": [
    "%%capture --no-display\n",
    "\n",
    "# Configure the map plot\n",
    "hotel_map=hotel_df.hvplot.points('Lat','Lng',geo=True,size='Humidity',color='Humidity',tiles='OSM',hover=True)\n",
    "\n",
    "# Display the map\n",
    "hotel_map"
   ]
  },
  {
   "cell_type": "code",
   "execution_count": null,
   "metadata": {},
   "outputs": [],
   "source": []
  }
 ],
 "metadata": {
  "kernelspec": {
   "display_name": "Python 3 (ipykernel)",
   "language": "python",
   "name": "python3"
  },
  "language_info": {
   "codemirror_mode": {
    "name": "ipython",
    "version": 3
   },
   "file_extension": ".py",
   "mimetype": "text/x-python",
   "name": "python",
   "nbconvert_exporter": "python",
   "pygments_lexer": "ipython3",
   "version": "3.10.11"
  },
  "latex_envs": {
   "LaTeX_envs_menu_present": true,
   "autoclose": false,
   "autocomplete": true,
   "bibliofile": "biblio.bib",
   "cite_by": "apalike",
   "current_citInitial": 1,
   "eqLabelWithNumbers": true,
   "eqNumInitial": 1,
   "hotkeys": {
    "equation": "Ctrl-E",
    "itemize": "Ctrl-I"
   },
   "labels_anchors": false,
   "latex_user_defs": false,
   "report_style_numbering": false,
   "user_envs_cfg": false
  }
 },
 "nbformat": 4,
 "nbformat_minor": 4
}
